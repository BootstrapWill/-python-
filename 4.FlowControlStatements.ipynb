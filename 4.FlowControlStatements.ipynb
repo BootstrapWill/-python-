{
 "cells": [
  {
   "cell_type": "markdown",
   "metadata": {},
   "source": [
    "# Flow Control Statements\n",
    "## Selection Control Statements \n",
    " \n",
    " Selection control statements are one of the ways to change the flow of control (procedural sequence of statements that the computer executes, generally one line after the other in the order they appear). The selection is made according to a condition defined by the user."
   ]
  },
  {
   "cell_type": "markdown",
   "metadata": {},
   "source": [
    "* **In Python, like in C, any `non-zero` integer or float value is `true`; `zero` is `false`.**    \n",
    "* **`None`is `false`.**  \n",
    "* **The condition may also be a string or list value, in fact any sequence; anything with a `non-zero length` is `true`, `empty` sequences are `false`.** \n",
    "\n",
    "See : [Boolean Values](#Boolean-values,-operators-and-expressions)"
   ]
  },
  {
   "cell_type": "code",
   "execution_count": 13,
   "metadata": {},
   "outputs": [
    {
     "name": "stdout",
     "output_type": "stream",
     "text": [
      "True\n"
     ]
    }
   ],
   "source": [
    "if 0.01:\n",
    "    print(True)\n",
    "else:\n",
    "    print(False)"
   ]
  },
  {
   "cell_type": "markdown",
   "metadata": {},
   "source": [
    "### `if` Statement\n",
    "```python\n",
    "if condition :   \n",
    "    if_body\n",
    "```\n",
    "If is executed if the condition is valued to `True`"
   ]
  },
  {
   "cell_type": "code",
   "execution_count": 10,
   "metadata": {},
   "outputs": [
    {
     "name": "stdout",
     "output_type": "stream",
     "text": [
      "4\n"
     ]
    }
   ],
   "source": [
    "name = 'Bob'\n",
    "size = 4\n",
    "\n",
    "# we can compare the values of strings\n",
    "if name == \"Jane\":\n",
    "    print(\"Hello, Jane!\")\n",
    "# ... or floats\n",
    "if size < 10.5:\n",
    "    print(size)"
   ]
  },
  {
   "cell_type": "markdown",
   "metadata": {},
   "source": [
    "##### Value vs Identity\n",
    "When comparing variables using `==`, we are doing a value comparison: we are checking whether the two variables have the same value. In contrast to this, we might want to know if two objects such as lists, dictionaries or custom objects that we have created ourselves are the exact same object. This is a test of identity. Two objects might have identical contents, but be two different objects. We compare identity with the is operator:"
   ]
  },
  {
   "cell_type": "code",
   "execution_count": 12,
   "metadata": {},
   "outputs": [
    {
     "name": "stdout",
     "output_type": "stream",
     "text": [
      "These lists have the same value.\n",
      "a and b are not the same object.\n"
     ]
    }
   ],
   "source": [
    "a = [1,2,3]\n",
    "b = [1,2,3]\n",
    "\n",
    "if a == b:\n",
    "    print(\"These lists have the same value.\")\n",
    "\n",
    "if a is b:\n",
    "    print(\"These lists are the same list.\")\n",
    "    \n",
    "if a is not b:\n",
    "    print(\"a and b are not the same object.\")"
   ]
  },
  {
   "cell_type": "markdown",
   "metadata": {},
   "source": [
    "### `If`...`Elif`...`Else`\n",
    "\n",
    "```python\n",
    "if condition:\n",
    "    Body of if\n",
    "elif condition:\n",
    "    Body of elif\n",
    "else: \n",
    "    Body of else\n",
    "```\n",
    "The `elif` is short for else if. It allows us to check for multiple `elif` conditions.\n",
    "If the condition for `if` is `False`, it checks the condition of the next `elif` block and so on.\n",
    "If all the conditions are `False`, the body of `else` is executed.\n",
    "Only one block among the several `if`...`elif`...`else` blocks is executed according to the condition.\n",
    "The `if` block can have only **one** `else` block. But it can have **multiple**  `elif` blocks."
   ]
  },
  {
   "cell_type": "code",
   "execution_count": null,
   "metadata": {},
   "outputs": [],
   "source": [
    "x = int('-2')\n",
    "y = int('43')\n",
    "if x > 0 and y > 0:\n",
    "    print(\"Quadrant I\")\n",
    "elif x > 0 and y < 0:\n",
    "    print(\"Quadrant IV\")\n",
    "elif y > 0:\n",
    "    print(\"Quadrant II\")\n",
    "else:\n",
    "    print(\"Quadrant III\")"
   ]
  },
  {
   "cell_type": "markdown",
   "metadata": {},
   "source": [
    "##### Shortened Single Line Syntax \n",
    "\n",
    "*Short Hand If*\n",
    "```python\n",
    "if a > b: print(\"a is greater than b\")\n",
    "``` \n",
    "*Short Hand If...Else..*\n",
    "```python    \n",
    "a = 2\n",
    "b = 330\n",
    "print(\"A\") if a > b else print(\"B\") \n",
    "```\n",
    "```python\n",
    "a = 330\n",
    "b = 330\n",
    "print(\"A\") if a > b else print(\"=\") if a == b else print(\"B\") \n",
    "```"
   ]
  },
  {
   "cell_type": "markdown",
   "metadata": {},
   "source": [
    "#### Nested If Statement\n",
    "In some cases you may want one decision to depend on the result of an earlier decision."
   ]
  },
  {
   "cell_type": "code",
   "execution_count": 17,
   "metadata": {},
   "outputs": [
    {
     "name": "stdout",
     "output_type": "stream",
     "text": [
      "Quadrant II\n"
     ]
    }
   ],
   "source": [
    "x = int('-2')\n",
    "y = int('43')\n",
    "if x > 0:\n",
    "    if y > 0:\n",
    "        # x is greater than 0, y is greater than 0\n",
    "        print(\"Quadrant I\")\n",
    "    else:    \n",
    "        # x is greater than 0, y is less or equal than 0\n",
    "        print(\"Quadrant IV\")\n",
    "else:\n",
    "    if y > 0:\n",
    "        # x is less or equal than 0, y is greater than 0\n",
    "        print(\"Quadrant II\")\n",
    "    else:    \n",
    "        # x is less or equal than 0, y is less or equal than 0\n",
    "        print(\"Quadrant III\")"
   ]
  },
  {
   "cell_type": "markdown",
   "metadata": {},
   "source": [
    "The following code fragment calculates the cost of sending a small parcel. The post office charges R5 for the first 300g, and R2 for every 100g thereafter (rounded up), up to a maximum weight of 1000g:"
   ]
  },
  {
   "cell_type": "code",
   "execution_count": 22,
   "metadata": {},
   "outputs": [
    {
     "name": "stdout",
     "output_type": "stream",
     "text": [
      "Your parcel will cost R15.\n"
     ]
    }
   ],
   "source": [
    "\n",
    "weight = 753\n",
    "if weight <= 1000:\n",
    "    if weight <= 300:\n",
    "        cost = 5\n",
    "    else:\n",
    "        cost = 5 + 2 * round((weight - 300)/100)\n",
    "\n",
    "    print(\"Your parcel will cost R%d.\" % cost)\n",
    "\n",
    "else:\n",
    "    print(\"Maximum weight for small parcel exceeded.\")\n",
    "    print(\"Use large parcel service instead.\")\n"
   ]
  },
  {
   "cell_type": "markdown",
   "metadata": {},
   "source": [
    "#### `Else`\n",
    "The default (catch-all) condition is the `else` clause at the end of the statement. If none of the conditions specified earlier is matched, the actions in the else body will be executed. It is a good idea to include a final else clause in each ladder to make sure that we are covering all cases, especially if there’s a possibility that the options will change in the future. "
   ]
  },
  {
   "cell_type": "markdown",
   "metadata": {},
   "source": [
    " It is important to keep track of indentation, so that each statement is in the correct block. \n",
    " \n",
    " **Return Statement and Function :**"
   ]
  },
  {
   "cell_type": "code",
   "execution_count": 23,
   "metadata": {},
   "outputs": [],
   "source": [
    "def valid_username(username):\n",
    "    if len(username) < 3:\n",
    "        return \"The username should be longer than 3 letters!\"\n",
    "    elif len(username) > 7:\n",
    "        return \"The username should be shorter than 7 letters!\"\n",
    "    else:\n",
    "        return \"Valid username\""
   ]
  },
  {
   "cell_type": "markdown",
   "metadata": {},
   "source": [
    "Here is an interesting thing, a return statement always exits the function. Thus, none of the code after a `return` statement will be executed.  \n",
    "Thus, we can omit the final `else` block with just a return statement and the function will operate in the same way as before."
   ]
  },
  {
   "cell_type": "code",
   "execution_count": 24,
   "metadata": {},
   "outputs": [],
   "source": [
    "def valid_username(username):\n",
    "    if len(username) < 3:\n",
    "        return \"The username should be longer than 3 letters!\"\n",
    "    elif len(username) > 7:\n",
    "        return \"The username should be shorter than 7 letters!\"\n",
    "    return \"Valid username\""
   ]
  },
  {
   "cell_type": "markdown",
   "metadata": {},
   "source": [
    "### Boolean values, operators and expressions\n",
    "\n",
    "The `bool` type.\n",
    "\n",
    "Python will implicitly convert any other value type to a boolean if we use it like a boolean, for example as a condition in an if statement. We will almost never have to cast values to bool explicitly. We also don’t have to use the == operator explicitly to check if a variable’s value evaluates to True – we can use the variable name by itself as a condition:"
   ]
  },
  {
   "cell_type": "code",
   "execution_count": 35,
   "metadata": {},
   "outputs": [
    {
     "name": "stdout",
     "output_type": "stream",
     "text": [
      "Hello, Jane!\n",
      "Hello, Jane!\n",
      "nein\n"
     ]
    }
   ],
   "source": [
    "name = \"Jane\"\n",
    "\n",
    "# This is shorthand for checking if name evaluates to True:\n",
    "if name:                              # name is a non-empty string, its Boolean value is True. \n",
    "    print(\"Hello, {}!\".format(name))  # variable used as a boolean, implicitly casted to Boolean.\n",
    "\n",
    "# It means the same thing as this:\n",
    "if bool(name) == True:\n",
    "    print(\"Hello, {}!\".format(name))\n",
    "\n",
    "# This won't give us the answer we expect:\n",
    "if name == True:                           # name is a string. using == asks if the string equals\n",
    "    print(\"Hello, {}!\".format(name))       # to True, which is false. this syntax does not cast\n",
    "else: print('nein')                        # string implicitly to a boolean"
   ]
  },
  {
   "cell_type": "markdown",
   "metadata": {},
   "source": [
    "#### Boolean operations\n",
    "\n",
    "Conditions which consist of simpler conditions joined together with AND, OR and NOT are referred to as compound conditions. These operators are known as boolean operators.\n",
    "\n",
    "Python has logical `AND` , logical `OR` and negation `NOT`.\n",
    "\n",
    "* Operator `and` is a binary operator which evaluates to True if and only if both its left-hand side and right-hand side are True.\n",
    "\n",
    "* Operator `or` is a binary operator which evaluates to True if at least one of its sides is True.\n",
    "\n",
    "* Operator `not` is a unary negation, it's followed by some value. It's evaluated to True if that value is False and vice versa. \n",
    "\n",
    "binary operation = must be given two operands "
   ]
  },
  {
   "cell_type": "code",
   "execution_count": 38,
   "metadata": {},
   "outputs": [
    {
     "name": "stdout",
     "output_type": "stream",
     "text": [
      "YES\n"
     ]
    }
   ],
   "source": [
    "#Does one of two number end with 0?\n",
    "a = int(67)\n",
    "b = int(1000)\n",
    "if a % 10 == 0 or b % 10 == 0:\n",
    "    print('YES')\n",
    "else:\n",
    "    print('NO')"
   ]
  },
  {
   "cell_type": "markdown",
   "metadata": {},
   "source": [
    "#### The `and` operator\n",
    "\n",
    "number within a range:"
   ]
  },
  {
   "cell_type": "code",
   "execution_count": 41,
   "metadata": {},
   "outputs": [
    {
     "name": "stdout",
     "output_type": "stream",
     "text": [
      "Grade B\n",
      "Grade B\n"
     ]
    }
   ],
   "source": [
    "mark=64\n",
    "if mark >= 50 and mark < 65:\n",
    "    print(\"Grade B\")\n",
    "    \n",
    "#number within a range can be rewritten without using and operator\n",
    "if 50 <= mark < 65:\n",
    "    print(\"Grade B\")"
   ]
  },
  {
   "cell_type": "markdown",
   "metadata": {},
   "source": [
    "We can join three or more subexpressions with and – they will be evaluated from left to right:\n",
    "```python\n",
    "condition_1 and condition_2 and condition_3 and condition_4\n",
    "# is the same as\n",
    "((condition_1 and condition_2) and condition_3) and condition_4\n",
    "```\n"
   ]
  },
  {
   "cell_type": "markdown",
   "metadata": {},
   "source": [
    "**`And` Short-circuit evaluation**\n",
    "\n",
    "Note that if `a` is false, the expression `a and b` is false whether `b` is true or not. The interpreter can take advantage of this to be more efficient: if it evaluates the first subexpression in an `AND` expression to be false, it does not bother to evaluate the second subexpression. We call `and` a *shortcut operator* or *short-circuit operator* because of this behaviour.\n",
    "\n",
    "This behaviour doesn’t just make the interpreter slightly faster – we can also use it to our advantage when writing programs. Consider this example:"
   ]
  },
  {
   "cell_type": "code",
   "execution_count": 43,
   "metadata": {},
   "outputs": [],
   "source": [
    "x=0\n",
    "if x > 0 and 1/x < 0.5:\n",
    "    print(\"x is {}\".format(x))"
   ]
  },
  {
   "cell_type": "markdown",
   "metadata": {},
   "source": [
    "What if x is zero? If the interpreter were to evaluate both of the subexpressions, we would get a divide by zero error. But because `and` is a short-circuit operator, the second subexpression will only be evaluated if the first subexpression is true. If x is zero, it will evaluate to false, and the second subexpression will not be evaluated at all.\n",
    "\n",
    "**Similarity between nested `if` and `and` operator :**\n",
    "\n",
    "We could use nested if instead:"
   ]
  },
  {
   "cell_type": "code",
   "execution_count": 44,
   "metadata": {},
   "outputs": [],
   "source": [
    "if x > 0:\n",
    "    if 1/x < 0.5:\n",
    "        print(\"x is {}\".format(x))"
   ]
  },
  {
   "cell_type": "markdown",
   "metadata": {},
   "source": [
    "Using 'and' instead is more compact and readable – especially if we have more than two conditions to check. These two snippets do the same thing:"
   ]
  },
  {
   "cell_type": "code",
   "execution_count": 45,
   "metadata": {},
   "outputs": [],
   "source": [
    "if x != 0:\n",
    "    if y != 0:\n",
    "        if z != 0:\n",
    "            print(1/(x*y*z))\n",
    "\n",
    "if x != 0 and y != 0 and z != 0:\n",
    "    print(1/(x*y*z))\n"
   ]
  },
  {
   "cell_type": "markdown",
   "metadata": {},
   "source": [
    "This often comes in useful if we want to **access an object’s attribute or an element from a list or a dictionary** , and we first want to check if it exists:"
   ]
  },
  {
   "cell_type": "code",
   "execution_count": 49,
   "metadata": {},
   "outputs": [
    {
     "ename": "SyntaxError",
     "evalue": "invalid syntax (<ipython-input-49-4d6ae88da94a>, line 7)",
     "output_type": "error",
     "traceback": [
      "\u001b[0;36m  File \u001b[0;32m\"<ipython-input-49-4d6ae88da94a>\"\u001b[0;36m, line \u001b[0;32m7\u001b[0m\n\u001b[0;31m    The syntax of hasattr() method is:\u001b[0m\n\u001b[0m             ^\u001b[0m\n\u001b[0;31mSyntaxError\u001b[0m\u001b[0;31m:\u001b[0m invalid syntax\n"
     ]
    }
   ],
   "source": [
    "if hasattr(my_person, \"name\") and len(myperson.name) > 30:\n",
    "    print(\"That's a long name, %s!\" % myperson.name)\n",
    "\n",
    "if i < len(mylist) and mylist[i] == 3:\n",
    "    print(\"I found a 3!\")\n",
    "\n",
    "if key in mydict and mydict[key] == 3:\n",
    "    print(\"I found a 3!\")\n"
   ]
  },
  {
   "cell_type": "markdown",
   "metadata": {},
   "source": [
    "The hasattr() method returns true if an object has the given named attribute and false if it does not.\n",
    "\n",
    "The syntax of hasattr() method is:\n",
    "\n",
    "hasattr(object, name)\n"
   ]
  },
  {
   "cell_type": "markdown",
   "metadata": {},
   "source": [
    "#### The `or` operator"
   ]
  },
  {
   "cell_type": "markdown",
   "metadata": {},
   "source": [
    "The interpreter also performs a short-circuit evaluation for `or` expressions. If it evaluates the first subexpression to be true, it will not bother to evaluate the second, because this is sufficient to determine that the whole expression is true."
   ]
  },
  {
   "cell_type": "code",
   "execution_count": 50,
   "metadata": {},
   "outputs": [
    {
     "name": "stdout",
     "output_type": "stream",
     "text": [
      "x is 2 or 3\n"
     ]
    }
   ],
   "source": [
    "# This is correct:\n",
    "if x < 3 or x > 300:\n",
    "    x += 1\n",
    "\n",
    "# This may not do what we expect:\n",
    "if x == 2 or 3:                  #boolean value of integer 3 is True because 3!=0\n",
    "    print(\"x is 2 or 3\")"
   ]
  },
  {
   "cell_type": "markdown",
   "metadata": {},
   "source": [
    "#### The `not` operator\n",
    "\n",
    "The `not` operator, is a unary operator: it only requires one operand. It is used to reverse an expression, can be used to write a less confusing expression"
   ]
  },
  {
   "cell_type": "code",
   "execution_count": 52,
   "metadata": {},
   "outputs": [
    {
     "name": "stdout",
     "output_type": "stream",
     "text": [
      "bracadabrantesque doesn't start with A!\n",
      "bracadabrantesque doesn't start with A!\n"
     ]
    }
   ],
   "source": [
    "name='bracadabrantesque'\n",
    "if name.startswith(\"A\"):\n",
    "    pass # a statement body can't be empty -- this is an instruction which does nothing.\n",
    "else:\n",
    "    print(\"{} doesn't start with A!\".format(name))\n",
    "\n",
    "# That's a little clumsy -- let's use \"not\" instead!\n",
    "if not name.startswith(\"A\"):\n",
    "    print(\"{} doesn't start with A!\".format(name))"
   ]
  },
  {
   "cell_type": "code",
   "execution_count": 57,
   "metadata": {},
   "outputs": [
    {
     "name": "stdout",
     "output_type": "stream",
     "text": [
      "Hello!\n"
     ]
    }
   ],
   "source": [
    "# Do something if a flag is False:\n",
    "my_flag=[] #empty list\n",
    "if not my_flag:\n",
    "    print(\"Hello!\")\n",
    "\n",
    "# This...\n",
    "if not x == 5:\n",
    "    x += 1\n",
    "\n",
    "# ... is equivalent to this:\n",
    "if x != 5:\n",
    "    x += 1"
   ]
  },
  {
   "cell_type": "markdown",
   "metadata": {},
   "source": [
    "The `not` operator can make expressions more difficult to understand, especially if it is used multiple times. Try only to use the `not` operator where it makes sense to have it. Most people find it easier to read positive statements than negative ones. Sometimes we can use the opposite relational operator to avoid using the not operator, for example:\n",
    "  \n",
    "|Operator|Opposite|  \n",
    "|--------|--------|\n",
    "|   ==   |   !=   |     \n",
    "|   <    |   >=   |\n",
    "|   >    |  <=    |"
   ]
  },
  {
   "cell_type": "code",
   "execution_count": 58,
   "metadata": {},
   "outputs": [
    {
     "name": "stdout",
     "output_type": "stream",
     "text": [
      "You passed\n",
      "You passed\n"
     ]
    }
   ],
   "source": [
    "if not mark < 50:\n",
    "    print(\"You passed\")\n",
    "\n",
    "# is the same as\n",
    "\n",
    "if mark >= 50:\n",
    "    print(\"You passed\")"
   ]
  },
  {
   "cell_type": "markdown",
   "metadata": {},
   "source": [
    "##### DeMorgan’s law "
   ]
  },
  {
   "cell_type": "markdown",
   "metadata": {},
   "source": [
    "\n",
    "    1. NOT (a AND b) = (NOT a) OR (NOT b)\n",
    "    2. NOT (a OR b) = (NOT a) AND (NOT b)\n",
    "    \n",
    "We can use these laws to distribute the `not` operator over boolean expressions in Python. For example:\n"
   ]
  },
  {
   "cell_type": "code",
   "execution_count": 62,
   "metadata": {},
   "outputs": [
    {
     "name": "stdout",
     "output_type": "stream",
     "text": [
      "Invalid age\n",
      "Invalid age\n"
     ]
    }
   ],
   "source": [
    "age = 145\n",
    "if not (age > 0 and age <= 120):\n",
    "    print(\"Invalid age\")\n",
    "\n",
    "# can be rewritten as\n",
    "\n",
    "if age <= 0 or age > 120:\n",
    "    print(\"Invalid age\")"
   ]
  },
  {
   "cell_type": "markdown",
   "metadata": {},
   "source": [
    "##### The `None` Value\n",
    "\n",
    "\n",
    "We often initialise a number to zero or a string to an empty string before we give it a more meaningful value. Zero and various “empty” values evaluate to `False` in boolean expressions, so we can check whether a variable has a meaningful value like this:\n",
    "\n",
    "\n",
    "\n",
    "    if (my_variable):\n",
    "        print(my_variable)\n",
    "\n"
   ]
  },
  {
   "cell_type": "markdown",
   "metadata": {},
   "source": [
    "Sometimes, however, a zero or an empty string is a meaningful value. How can we indicate that a variable isn’t set to anything if we can’t use zero or an empty string? We can set it to `None` instead.\n",
    "\n",
    "In Python, `None` is a special value which means “nothing”. Its type is called `NoneType`, and only one `None` value exists at a time – all the None values we use are the same object.\n",
    "\n",
    "`None` evaluates to <span style=\"color:red\">False</span> in boolean expressions. If we don’t care whether our variable is `None` or some other value which is also `false`, we can just check its value as the previous code written.   \n",
    "\n",
    "However, **if we want to distinguish between a `False` value (zero,empty..) and a `None`value we need to be more specific and use :**"
   ]
  },
  {
   "cell_type": "code",
   "execution_count": 68,
   "metadata": {},
   "outputs": [
    {
     "name": "stdout",
     "output_type": "stream",
     "text": [
      "my number 0 is not None\n",
      "my number 0 is zero \n",
      "I haven't got a string at all!\n"
     ]
    }
   ],
   "source": [
    "my_number=0\n",
    "my_string=None\n",
    "if my_number is not None:\n",
    "    print('my number {} is not None'.format(my_number)) # could still be zero\n",
    "    if not my_number:\n",
    "        print('my number {} is zero '.format(my_number))\n",
    "else:\n",
    "    print('my number is set to None value'.format(my_number))\n",
    "\n",
    "if my_string is None:\n",
    "    print(\"I haven't got a string at all!\")\n",
    "elif not my_string: # another false value, i.e. an empty string\n",
    "    print(\"My string is empty!\")\n",
    "else:\n",
    "    print(\"My string is '%s'.\" % my_string)\n"
   ]
  },
  {
   "cell_type": "code",
   "execution_count": null,
   "metadata": {},
   "outputs": [],
   "source": []
  }
 ],
 "metadata": {
  "kernelspec": {
   "display_name": "Python 3",
   "language": "python",
   "name": "python3"
  },
  "language_info": {
   "codemirror_mode": {
    "name": "ipython",
    "version": 3
   },
   "file_extension": ".py",
   "mimetype": "text/x-python",
   "name": "python",
   "nbconvert_exporter": "python",
   "pygments_lexer": "ipython3",
   "version": "3.8.5"
  }
 },
 "nbformat": 4,
 "nbformat_minor": 4
}
