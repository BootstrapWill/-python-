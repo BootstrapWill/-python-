{
 "cells": [
  {
   "cell_type": "markdown",
   "metadata": {},
   "source": [
    "# Strings\n",
    "In python a string is a sequence of Unicode characters.  \n",
    "Strings can be created by enclosing characters inside a single quote `'...'` or double-quotes `\"...\"`. Even triple quotes `\"\"\"...\"\"\"` `'''...'''` can be used to delimit strings or multiline strings but generally used to represent multiline comments and docstrings."
   ]
  },
  {
   "cell_type": "code",
   "execution_count": 241,
   "metadata": {},
   "outputs": [
    {
     "name": "stdout",
     "output_type": "stream",
     "text": [
      "Hello World\n",
      "Hello Pariis\n",
      "Hello KIKI\n",
      "Hello, welcome to\n",
      "           the world of Python\n",
      "\n",
      "Usage: thingy [OPTIONS]\n",
      "     -h                        Display this usage message\n",
      "     -H hostname               Hostname to connect to\n",
      "\n"
     ]
    }
   ],
   "source": [
    "# defining strings in Python\n",
    "# all of the following are equivalent\n",
    "my_string = 'Hello World'\n",
    "print(my_string)\n",
    "\n",
    "my_string = \"Hello Pariis\"\n",
    "print(my_string)\n",
    "\n",
    "my_string = '''Hello KIKI'''\n",
    "print(my_string)\n",
    "\n",
    "# triple quotes string can extend multiple lines\n",
    "my_string = \"\"\"Hello, welcome to\n",
    "           the world of Python\"\"\"\n",
    "\n",
    "print(my_string)\n",
    "\n",
    "print(\"\"\"\n",
    "Usage: thingy [OPTIONS]\n",
    "     -h                        Display this usage message\n",
    "     -H hostname               Hostname to connect to\n",
    "\"\"\")\n",
    "# \\ at the beginning of string allows the newline to be excluded : \\¶"
   ]
  },
  {
   "cell_type": "markdown",
   "metadata": {},
   "source": [
    "#### Escape character\n",
    "An escape character is a backslash \\ followed by the character you want to insert.  \n",
    "Used to insert characters that is illegal in a string and format your string correctly."
   ]
  },
  {
   "cell_type": "code",
   "execution_count": 242,
   "metadata": {},
   "outputs": [
    {
     "name": "stdout",
     "output_type": "stream",
     "text": [
      "We are the so-called \"Vikings\" from the north.\n",
      "doesn't\n",
      "\"Yes,\" they said.\n"
     ]
    }
   ],
   "source": [
    "txt = \"We are the so-called \\\"Vikings\\\" from the north.\"\n",
    "print(txt)\n",
    "\n",
    "print('doesn\\'t')\n",
    "print(\"\\\"Yes,\\\" they said.\")"
   ]
  },
  {
   "cell_type": "markdown",
   "metadata": {},
   "source": [
    " #### Single or Double Quotes \n",
    " **`'`and `\"`** can either be used to enclose a sting. Used simultaneously in the same string they are used to enclose the string and escape the other. The first quote in a string is defined as the enclosing quote used to delimit the string. The other type of quote is then unconsidered in the string delimitation and is thus used as a normal character and printed as is."
   ]
  },
  {
   "cell_type": "code",
   "execution_count": 243,
   "metadata": {},
   "outputs": [
    {
     "name": "stdout",
     "output_type": "stream",
     "text": [
      "doesn't\n",
      "\"Yes,\" they said.\n"
     ]
    }
   ],
   "source": [
    "print(\"doesn't\")\n",
    "print('\"Yes,\" they said.')"
   ]
  },
  {
   "cell_type": "markdown",
   "metadata": {},
   "source": [
    "**Combining** `\\`and quotes `'` `\"` :"
   ]
  },
  {
   "cell_type": "code",
   "execution_count": 244,
   "metadata": {},
   "outputs": [
    {
     "name": "stdout",
     "output_type": "stream",
     "text": [
      "\"Isn't,\" they said.\n",
      "'Isn\"t', they said.\n"
     ]
    }
   ],
   "source": [
    "a='\"Isn\\'t,\" they said.'\n",
    "print(a)\n",
    "\n",
    "b=\"'Isn\\\"t', they said.\"\n",
    "print(b)\n"
   ]
  },
  {
   "cell_type": "markdown",
   "metadata": {},
   "source": [
    "**Interactive mode** and **print()**  \n",
    "Interactive mode shows every character escaped or not.\n",
    "print omits escaped characters as intended, and omits enclosing quotes."
   ]
  },
  {
   "cell_type": "code",
   "execution_count": 245,
   "metadata": {},
   "outputs": [
    {
     "data": {
      "text/plain": [
       "'\"Isn\\'t,\" they said.'"
      ]
     },
     "execution_count": 245,
     "metadata": {},
     "output_type": "execute_result"
    }
   ],
   "source": [
    "'\"Isn\\'t,\" they said.'"
   ]
  },
  {
   "cell_type": "code",
   "execution_count": 246,
   "metadata": {},
   "outputs": [
    {
     "data": {
      "text/plain": [
       "\"'First line.\\nSecond line.'\""
      ]
     },
     "execution_count": 246,
     "metadata": {},
     "output_type": "execute_result"
    }
   ],
   "source": [
    "\"'First line.\\nSecond line.'\""
   ]
  },
  {
   "cell_type": "code",
   "execution_count": 247,
   "metadata": {},
   "outputs": [
    {
     "name": "stdout",
     "output_type": "stream",
     "text": [
      "\"Isn't,\" they said.\n",
      "First line.\n",
      "Second line.\n"
     ]
    }
   ],
   "source": [
    "print('\"Isn\\'t,\" they said.')\n",
    "print('First line.\\nSecond line.')"
   ]
  },
  {
   "cell_type": "markdown",
   "metadata": {},
   "source": [
    "#### Escape characters\n",
    "`\\\\` Backslash :  Escapes backslash function. double backslash means backslash  \n",
    "`\\n` \tNew Line : Starts a new line       \n",
    "`\\r` \tCarriage Return \t \\r takes the cursor to the beginning of the line. It is the same effect as in a physical typewriter when you move your carriage to the beginning and overwrite                           whatever is there.   \n",
    "`\\t` \tTab \t\n",
    "`\\b` \tBackspace \t\n",
    "\n",
    "\n",
    "                \\n    newline \n",
    "                \n",
    "\t\t\t\t\\\\ Backslash\n",
    "\n",
    "\t\t\t\t\\' Single quote\n",
    "\n",
    "\t\t\t\t\\\" Double quote\n",
    "\n",
    "\t\t\t\t\\a ASCII Bell\n",
    "\n",
    "\t\t\t\t\\b ASCII Backspace\n",
    "\n",
    "\t\t\t\t\\f ASCII Formfeed\n",
    "\n",
    "\t\t\t\t\\n ASCII Linefeed\n",
    "\n",
    "\t\t\t\t\\r ASCII Carriage Return\n",
    "\n",
    "\t\t\t\t\\t ASCII Horizontal Tab\n",
    "\n",
    "\t\t\t\t\\v ASCII Vertical Tab\n",
    "\n",
    "\t\t\t\t\\ooo Character with octal value ooo\n",
    "\n",
    "\t\t\t\t\\xHH Character with hexadecimal value HH"
   ]
  },
  {
   "cell_type": "code",
   "execution_count": 248,
   "metadata": {},
   "outputs": [
    {
     "name": "stdout",
     "output_type": "stream",
     "text": [
      "\"Isn't,\" they \\ said.\n",
      "\"Isn\\'t,\" they \n",
      " said.\n",
      " said.,\" they \n",
      "\"Isn't,\" they \t said.\n",
      "\"Isn't,\" the said.\n"
     ]
    }
   ],
   "source": [
    "print('\"Isn\\'t,\" they \\\\ said.')\n",
    "print('\"Isn\\\\\\'t,\" they \\n said.')\n",
    "print('\"Isn\\'t,\" they \\r said.')\n",
    "print('\"Isn\\'t,\" they \\t said.')\n",
    "print('\"Isn\\'t,\" they\\b said.')"
   ]
  },
  {
   "cell_type": "markdown",
   "metadata": {},
   "source": [
    "#### raw string\n",
    "\n",
    "Adding `r` before the first quote allows to unconsider special characters and use *raw strings* .  \n",
    "By adding `r`we indicate that the contents of the string are exactly what we have written, and that backslashes have no special meaning. "
   ]
  },
  {
   "cell_type": "code",
   "execution_count": 249,
   "metadata": {},
   "outputs": [
    {
     "ename": "SyntaxError",
     "evalue": "unexpected character after line continuation character (<ipython-input-249-2f0cba291c90>, line 2)",
     "output_type": "error",
     "traceback": [
      "\u001b[0;36m  File \u001b[0;32m\"<ipython-input-249-2f0cba291c90>\"\u001b[0;36m, line \u001b[0;32m2\u001b[0m\n\u001b[0;31m    C:\\some\u001b[0m\n\u001b[0m           ^\u001b[0m\n\u001b[0;31mSyntaxError\u001b[0m\u001b[0;31m:\u001b[0m unexpected character after line continuation character\n"
     ]
    }
   ],
   "source": [
    ">>> print('C:\\some\\name')  # here \\n means newline!\n",
    "C:\\some\n",
    "ame\n",
    ">>> print(r'C:\\some\\name')  # note the r before the quote\n",
    "C:\\some\\name"
   ]
  },
  {
   "cell_type": "markdown",
   "metadata": {},
   "source": [
    "#### no new line\n",
    "`\\`alone with nothing after (no space) allows to unconsider the new line"
   ]
  },
  {
   "cell_type": "code",
   "execution_count": null,
   "metadata": {},
   "outputs": [],
   "source": [
    "print(\"\"\"\\\n",
    "\\\n",
    "\\\n",
    "\\\n",
    "Usage: thingy [OPTIONS]\n",
    "     -h                        Display this usage message\n",
    "     -H hostname               Hostname to connect to\n",
    "\\\n",
    "\"\"\")\n",
    "print(\"\"\"--------\n",
    "\n",
    "\n",
    "\n",
    "Usage: thingy [OPTIONS]\n",
    "     -h                        Display this usage message\n",
    "     -H hostname               Hostname to connect to\n",
    "\"\"\")"
   ]
  },
  {
   "cell_type": "markdown",
   "metadata": {},
   "source": [
    "#### String literals following each other\n",
    "Two or more string literals (i.e. the ones enclosed between quotes) next to each other are automatically **concatenated**.\n",
    "This feature is particularly useful when you want to break long strings.\n",
    "This only works with two literals though, not with variables or expressions. See concatenation"
   ]
  },
  {
   "cell_type": "code",
   "execution_count": null,
   "metadata": {},
   "outputs": [],
   "source": [
    "print('py'   'thon' 'is' \"not\" 'a''snake')\n",
    "text = ('Put several strings within parentheses '\n",
    "         'to have them joined together.')\n",
    "print(text)\n",
    "\n",
    "alphabet='abcdefg'\n",
    "print(a+'hijklmnop')\n",
    "\n",
    "# alphabet 'hijklmnop'     ERROR\n",
    "\n"
   ]
  },
  {
   "cell_type": "markdown",
   "metadata": {},
   "source": [
    "#### Concatenation\n",
    "`+`opperator concatenates strings together  \n",
    "`*`operator repeates string"
   ]
  },
  {
   "cell_type": "code",
   "execution_count": null,
   "metadata": {},
   "outputs": [],
   "source": [
    "a = \"Hello\"\n",
    "b = \"World\"\n",
    "c = a + \" \" + b\n",
    "print(c)\n",
    "\n",
    "print(3 * 'ur' + 'anium')"
   ]
  },
  {
   "cell_type": "code",
   "execution_count": null,
   "metadata": {},
   "outputs": [],
   "source": [
    "print(\"number \" + str(23))\n",
    "print(\"number \" + 23.0) #ADDING String class + other class nonono\n"
   ]
  },
  {
   "cell_type": "markdown",
   "metadata": {},
   "source": [
    "##  String indexing & slicing \n",
    "\n",
    "Square brackets can be used to access elements of the string.   \n",
    "\n",
    "It should be noted that strings are **zero-indexed**, i.e., the position numbering starts with a **`zero`** and ends with the **`length of string - 1`** .\n",
    "\n",
    "We can access individual characters using indexing and a range of characters using slicing. Index starts from `0.` Trying to access a character out of index range will raise an `IndexError`. The index must be an integer. We can't use floats or other types, this will result into `TypeError`.\n",
    "\n",
    "Python allows negative indexing for its sequences.  \n",
    "The index of `-1` refers to the last item, `-2` to the second last item and so on. We can access a range of items in a string by using the slicing operator `:`(colon).\n",
    "\n",
    "**Negative indexes** lets us access the positoins in the string starting from the last one.\n",
    "NOTE: negative indexes start at `-1` and continue till `-length of string`"
   ]
  },
  {
   "cell_type": "code",
   "execution_count": null,
   "metadata": {},
   "outputs": [],
   "source": [
    "gloubi = 'programiz'\n",
    "\n",
    "#first character\n",
    "print('gloubi[0] = ', gloubi[0])\n",
    "\n",
    "#last character\n",
    "print('gloubi[-1] = ', gloubi[-1])\n",
    "\n",
    "#slicing 2nd to 5th character\n",
    "print('gloubi[1:5] = ', gloubi[1:5])\n",
    "\n",
    "#slicing 6th to 2nd last character\n",
    "print('gloubi[5:-2] = ', gloubi[5:-2])\n",
    "\n",
    "print('last letter of gloubi is ', gloubi[len(gloubi) - 1])"
   ]
  },
  {
   "cell_type": "markdown",
   "metadata": {},
   "source": [
    "Apart from accessing a single character from a string, we can also access a slice from a string.  \n",
    "A **slice** is a portion of a string that can contain more than one character; also sometimes called a substring.  \n",
    "This is achieved by creating a range inside the square brackets separated by a colon(:).  \n",
    "- gloubi[m:n] gives us the slice from position `m` to position `n-1`\n",
    "- gloubi[m:] gives us the slice from position `m` to the end of the string\n",
    "- gloubi[:n] gives us the slice from the beginning to position `n-1`\n",
    "\n",
    "For non-negative indices, the length of a slice is the difference of the indices, if both are within bounds. For example, the length of word[1:3] is 2."
   ]
  },
  {
   "cell_type": "markdown",
   "metadata": {},
   "source": [
    "If you specify a slice with three parameters `S[a:b:d]`, the third parameter specifies the step, same as for function `range()`. In this case only the characters with the following index are taken: `a a + d, a + 2 * d` and so on, until and not including the character with index `b`. If the third parameter equals to 2, the slice takes every second character, and if the step of the slice equals to -1, the characters go in reverse order. For example, you can reverse a string like this: `S[::-1]`. Let's see the examples:"
   ]
  },
  {
   "cell_type": "code",
   "execution_count": null,
   "metadata": {},
   "outputs": [],
   "source": [
    "s = 'abcdefg'\n",
    "print(s[1])\n",
    "print(s[-1])\n",
    "print(s[1:3])\n",
    "print(s[1:-1])\n",
    "print(s[:3])\n",
    "print(s[2:])\n",
    "print(s[:-1])\n",
    "print(s[::2])\n",
    "print(s[1::2])\n",
    "print(s[::-1])"
   ]
  },
  {
   "cell_type": "markdown",
   "metadata": {},
   "source": [
    "Strings are **immutable** data types.  \n",
    "That is a fancy way of saying that once we create a string, we can't change its contents:"
   ]
  },
  {
   "cell_type": "code",
   "execution_count": null,
   "metadata": {},
   "outputs": [],
   "source": [
    "var='pythin'\n",
    "var[4] = \"o\""
   ]
  },
  {
   "cell_type": "code",
   "execution_count": null,
   "metadata": {},
   "outputs": [],
   "source": [
    "var= var[:4]+'o'+var[5:]\n",
    "print(var)"
   ]
  },
  {
   "cell_type": "markdown",
   "metadata": {},
   "source": [
    "Attempting to use an index that is too large will result in an error:"
   ]
  },
  {
   "cell_type": "code",
   "execution_count": null,
   "metadata": {},
   "outputs": [],
   "source": [
    "word='python'\n",
    "word[22]"
   ]
  },
  {
   "cell_type": "markdown",
   "metadata": {},
   "source": [
    "out of range slice indexes are handled gracefully when used for slicing:"
   ]
  },
  {
   "cell_type": "code",
   "execution_count": null,
   "metadata": {},
   "outputs": [],
   "source": [
    "print(word[2:42])\n",
    "print(word[42:])\n"
   ]
  },
  {
   "cell_type": "markdown",
   "metadata": {},
   "source": [
    "#### Index Method & Membership Operator to check in string\n",
    "\n",
    "index() returns index of the first letter or group of characters looked for. Returns a error is string looked for absent. Making sure its a memeber of the string is a good practice.\n",
    "\n",
    "`index()`  \n",
    "`in`  \n",
    "`not in`  "
   ]
  },
  {
   "cell_type": "code",
   "execution_count": null,
   "metadata": {},
   "outputs": [],
   "source": [
    "pets = \"cat and pythin\"\n",
    "print(pets.index(\"i\"))\n",
    "print(pets.index(\"and\"))"
   ]
  },
  {
   "cell_type": "code",
   "execution_count": null,
   "metadata": {},
   "outputs": [],
   "source": [
    "print(\"cat\" in pets)\n",
    "print('dog' in pets)\n",
    "if 'py' in pets:\n",
    "    print(pets.index('py'))\n",
    "    "
   ]
  },
  {
   "cell_type": "code",
   "execution_count": 250,
   "metadata": {},
   "outputs": [
    {
     "name": "stdout",
     "output_type": "stream",
     "text": [
      "True\n",
      "Yes, 'expensive' is NOT present.\n"
     ]
    }
   ],
   "source": [
    "txt = \"The best things in life are free!\"\n",
    "print(\"expensive\" not in txt)\n",
    "txt = \"The best things in life are free!\"\n",
    "if \"expensive\" not in txt:\n",
    "  print(\"Yes, 'expensive' is NOT present.\")"
   ]
  },
  {
   "cell_type": "markdown",
   "metadata": {},
   "source": [
    "#### Looping through a string"
   ]
  },
  {
   "cell_type": "code",
   "execution_count": 251,
   "metadata": {},
   "outputs": [
    {
     "name": "stdout",
     "output_type": "stream",
     "text": [
      "b\n",
      "a\n",
      "n\n",
      "a\n",
      "n\n",
      "a\n"
     ]
    }
   ],
   "source": [
    "for x in \"banana\":\n",
    "  print(x)"
   ]
  },
  {
   "cell_type": "markdown",
   "metadata": {},
   "source": [
    "#### Practical Example"
   ]
  },
  {
   "cell_type": "code",
   "execution_count": 252,
   "metadata": {},
   "outputs": [
    {
     "data": {
      "text/plain": [
       "'willly@gmail.com'"
      ]
     },
     "execution_count": 252,
     "metadata": {},
     "output_type": "execute_result"
    }
   ],
   "source": [
    "# Changes the domain of a given email from the old domain to the new domain\n",
    "def change_domain(email, old_domain, new_domain):\n",
    "    if \"@\" + old_domain in email:\n",
    "        ind = email.index(\"@\" + old_domain)\n",
    "        new_email = email[:ind] + \"@\" + new_domain\n",
    "        return new_email\n",
    "    return email\n",
    "\n",
    "change_domain('willly@hotmail.com','hotmail.com','gmail.com')"
   ]
  },
  {
   "cell_type": "markdown",
   "metadata": {},
   "source": [
    "## String Methods\n",
    "A method is a function that is bound to the object.   \n",
    "There are many built-in functions which perform operations on strings. String objects also have many useful `methods` (i.e. functions which are attached to the objects, and accessed with the attribute reference operator `.`.\n",
    "Some of the commonly used methods are `format()` , `lower()`, `upper()`, `join()`, `split()`, `find()`, `replace()` etc.  \n",
    "\n",
    "\n",
    "Methods are invoked as `object_name.method_name(arguments)`.   \n",
    "For example, in `s.find(\"e\")`  the string method `find()` is applied to the string `s` with one argument `\"e\"`.\n",
    "\n",
    "Method `find()` searches a substring, passed as an argument, inside the string on which it's called. The function returns the index of the first occurrence of the substring. If the substring is not found, the method returns `-1`."
   ]
  },
  {
   "cell_type": "markdown",
   "metadata": {},
   "source": [
    "#### format() Method\n",
    "The `format()` method that is available with the string object is very versatile and powerful in formatting strings. Format strings contain curly braces {} as placeholders or replacement fields which get replaced.\n",
    "\n",
    "The placeholders can be identified using named indexes `{price}`, numbered indexes `{0}`, or even empty placeholders `{}`.\n",
    "\n",
    "Info on `format()` placeholder formatting https://docs.python.org/3/library/string.html#string-formatting\n"
   ]
  },
  {
   "cell_type": "code",
   "execution_count": 253,
   "metadata": {},
   "outputs": [
    {
     "name": "stdout",
     "output_type": "stream",
     "text": [
      "Hi amish your lucky number is 15\n"
     ]
    }
   ],
   "source": [
    "name = \"amish\"\n",
    "number = len(name) * 3\n",
    "print(\"Hi {} your lucky number is {}\".format(name, number))"
   ]
  },
  {
   "cell_type": "markdown",
   "metadata": {},
   "source": [
    "We used the format method on the string and passed on the variables that we want to substitute the curly braces with **in order**. This leads to the name being substituted for the first curly bracket and the number being substituted for the second curly bracket.  \n",
    "Notice that we didn't have to convert the number from integer to string, the format method does this for us! So glad we have it.\n",
    "\n",
    "But wait, there's even more!  \n",
    "By using certain expressions inside the curly brackets we can further enhance the string formatting operation. Lets have a look."
   ]
  },
  {
   "cell_type": "code",
   "execution_count": 254,
   "metadata": {},
   "outputs": [
    {
     "name": "stdout",
     "output_type": "stream",
     "text": [
      "Your lucky number is 25, amish\n"
     ]
    }
   ],
   "source": [
    "print(\"Your lucky number is {number}, {name}\".format(name=name, number=len(name)*5))"
   ]
  },
  {
   "cell_type": "markdown",
   "metadata": {},
   "source": [
    "Because we are using placeholders for the variable names, the order in which the variables are passed doesn't matter now.  \n",
    "But also notice that we had to modify the way in which we present the variables to the format method as arguments."
   ]
  },
  {
   "cell_type": "code",
   "execution_count": 255,
   "metadata": {},
   "outputs": [
    {
     "name": "stdout",
     "output_type": "stream",
     "text": [
      "Base price: Rs10.50, with tax: Rs11.03\n"
     ]
    }
   ],
   "source": [
    "price = 10.5\n",
    "with_tax = price * 1.05\n",
    "print(\"Base price: Rs{:.2f}, with tax: Rs{:.2f}\".format(price, with_tax))"
   ]
  },
  {
   "cell_type": "markdown",
   "metadata": {},
   "source": [
    "Having three decimal places for price is a bit of overkill as we don't have the smaller denominations anymore. Two decimal places seems reasonable though.  \n",
    "Here we are using what are called formatting expressions inside the curly brckets to round off the values upto two decimal places.  \n",
    "\n",
    "The colon(:) indicates that we are starting our formatting expression.  \n",
    "After the colon, we write .2f \n",
    "- this means we are formatting a float number\n",
    "- there should be two decimal places after the decimal dot\n",
    "\n",
    "Here's another example:"
   ]
  },
  {
   "cell_type": "code",
   "execution_count": 256,
   "metadata": {},
   "outputs": [
    {
     "name": "stdout",
     "output_type": "stream",
     "text": [
      "  0 F | -17.78 C\n",
      " 10 F | -12.22 C\n",
      " 20 F |  -6.67 C\n",
      " 30 F |  -1.11 C\n",
      " 40 F |   4.44 C\n",
      " 50 F |  10.00 C\n",
      " 60 F |  15.56 C\n",
      " 70 F |  21.11 C\n",
      " 80 F |  26.67 C\n",
      " 90 F |  32.22 C\n",
      "100 F |  37.78 C\n"
     ]
    }
   ],
   "source": [
    "def to_celsius(x):\n",
    "    return (x - 32) * 5 / 9\n",
    "\n",
    "for x in range(0, 101, 10):\n",
    "    print(\"{:>3} F | {:>6.2f} C\".format(x, to_celsius(x)))"
   ]
  },
  {
   "cell_type": "markdown",
   "metadata": {},
   "source": [
    "The expressions now contain a greater than sign, that tells the format function that we should align the values to the right.  \n",
    "In the first expression we want the numbers to be aligned to the right for three spaces and six spaces for the second.  \n",
    "We also want the decimal numbers to have two decimal places in the second expression.\n",
    "\n",
    "**Example** Insert the price inside the placeholder, the price should be in fixed point, two-decimal format:"
   ]
  },
  {
   "cell_type": "code",
   "execution_count": 257,
   "metadata": {},
   "outputs": [
    {
     "name": "stdout",
     "output_type": "stream",
     "text": [
      "For only 49.00 dollars!\n"
     ]
    }
   ],
   "source": [
    " txt = \"For only {price:.2f} dollars!\"\n",
    "print(txt.format(price = 49)) "
   ]
  },
  {
   "cell_type": "code",
   "execution_count": 258,
   "metadata": {},
   "outputs": [
    {
     "ename": "SyntaxError",
     "evalue": "invalid syntax (<ipython-input-258-b79d4dc0e13f>, line 1)",
     "output_type": "error",
     "traceback": [
      "\u001b[0;36m  File \u001b[0;32m\"<ipython-input-258-b79d4dc0e13f>\"\u001b[0;36m, line \u001b[0;32m1\u001b[0m\n\u001b[0;31m    Using different placeholder values:\u001b[0m\n\u001b[0m                  ^\u001b[0m\n\u001b[0;31mSyntaxError\u001b[0m\u001b[0;31m:\u001b[0m invalid syntax\n"
     ]
    }
   ],
   "source": [
    "Using different placeholder values:\n",
    "txt1 = \"My name is {fname}, I'm {age}\".format(fname = \"John\", age = 36)\n",
    "txt2 = \"My name is {0}, I'm {1}\".format(\"John\",36)\n",
    "txt3 = \"My name is {}, I'm {}\".format(\"John\",36) "
   ]
  },
  {
   "cell_type": "code",
   "execution_count": null,
   "metadata": {},
   "outputs": [],
   "source": [
    "errno = 50159747054\n",
    "name = str(input())\n",
    "\n",
    "a='Hello, {}'.format(name)\n",
    "print(a)\n",
    "b='Hey {name}, there is a 0x{errno:x} error!'.format(name=name, errno=errno)\n",
    "print(b)\n"
   ]
  },
  {
   "cell_type": "markdown",
   "metadata": {},
   "source": [
    "We can use positional arguments or keyword arguments to specify the order:"
   ]
  },
  {
   "cell_type": "code",
   "execution_count": null,
   "metadata": {},
   "outputs": [],
   "source": [
    "# Python string format() method\n",
    "\n",
    "# default(implicit) order\n",
    "default_order = \"{} , {} , {}\".format('John','Bill','Sean')\n",
    "print('\\n--- Default Order ---')\n",
    "print(default_order)\n",
    "\n",
    "# order using positional argument\n",
    "positional_order = \"{1}, {0} and {2}\".format('John','Bill','Sean')\n",
    "print('\\n--- Positional Order ---')\n",
    "print(positional_order)\n",
    "\n",
    "# order using keyword argument\n",
    "keyword_order = \"{s}, {b} and {j}\".format(j='John',b='Bill',s='Sean')\n",
    "print('\\n--- Keyword Order ---')\n",
    "print(keyword_order)"
   ]
  },
  {
   "cell_type": "markdown",
   "metadata": {},
   "source": [
    "### PYTHON 3.6+ new formatting approach : f-strings, or formatted string literals.\n",
    "see\n",
    "\n",
    "* https://realpython.com/python-string-formatting/#3-string-interpolation-f-strings-python-36  \n",
    "* https://docs.python.org/3/whatsnew/3.6.html?highlight=string%20interpolation#whatsnew36-pep498"
   ]
  },
  {
   "cell_type": "markdown",
   "metadata": {},
   "source": [
    "#### More Examples on String Methods :"
   ]
  },
  {
   "cell_type": "code",
   "execution_count": null,
   "metadata": {},
   "outputs": [],
   "source": [
    "name = \"Jane SMITH\"\n",
    "\n",
    "# Find the length of a string with the built-in len function\n",
    "print(len(name))\n",
    "\n",
    "# Print the string converted to lowercase\n",
    "print(name.lower())\n",
    "# Print the original string\n",
    "print(name)\n",
    "\n",
    "'''the lower method does not change the value of name. It returns a modified copy of the value. \n",
    "Strings are Imutable.\n",
    "If we wanted to change the value of name permanently, \n",
    "we would have to assign the new value to the variable, like this:'''\n",
    "\n",
    "# Convert the string to lowercase\n",
    "name = name.lower()\n",
    "print(name)\n",
    "\n",
    "print(\"PrOgRaMiZ\".lower())\n",
    "print(\"PrOgRaMiZ\".upper())\n",
    "print(\"This will split all words into a list\".split())\n",
    "\n",
    "print(' '.join(['This', 'will', 'join', 'all', 'words', 'into', 'a', 'string']))\n",
    "\n",
    "print('Happy New Year'.find('ew'))\n",
    "\n",
    "'Happy New Year'.replace('Happy','Brilliant')\n",
    "\n",
    "name.find('p')\n"
   ]
  },
  {
   "cell_type": "markdown",
   "metadata": {},
   "source": [
    "**STRIP**   \n",
    "`strip()`  \n",
    "This function gets rid of trailing and preceding spaces in the string.  \n",
    "We can use the more specialized **lstrip** to get rid of preceding spaces and also use **rstrip** to get rid of the trailing spaces."
   ]
  },
  {
   "cell_type": "code",
   "execution_count": null,
   "metadata": {},
   "outputs": [],
   "source": [
    "var = \"  yea  \"\n",
    "print('\"'+var+'\"')\n",
    "print('\"'+ var.strip()+'\"')\n",
    "print('\"'+var.lstrip()+'\"')\n",
    "print('\"'+var.rstrip()+'\"')"
   ]
  },
  {
   "cell_type": "markdown",
   "metadata": {},
   "source": [
    "**COUNT**  \n",
    "Returns how many times a given substring appears within a string."
   ]
  },
  {
   "cell_type": "code",
   "execution_count": null,
   "metadata": {},
   "outputs": [],
   "source": [
    "print(\"The number of times e occurs in this string is 4\".count(\"e\"))\n",
    "b='Returns how many times a given substring appears within a string'\n",
    "print(b.count('in'))"
   ]
  },
  {
   "cell_type": "markdown",
   "metadata": {},
   "source": [
    "**ENDSWITH**  \n",
    "This method returns whether the string ends with a certain substring."
   ]
  },
  {
   "cell_type": "code",
   "execution_count": null,
   "metadata": {},
   "outputs": [],
   "source": [
    "print(\"Forest\".endswith(\"rest\"))"
   ]
  },
  {
   "cell_type": "markdown",
   "metadata": {},
   "source": [
    "**ISNUMERIC**  \n",
    "This method returns whether the string is composed of only numbers.  \n",
    "Python string method isnumeric() checks whether the string consists of only numeric characters. This method is present only on unicode objects.\n",
    "\n",
    "Note − To define a string as Unicode, one simply prefixes a 'u' to the opening quotation mark of the assignment. Below is the example."
   ]
  },
  {
   "cell_type": "code",
   "execution_count": null,
   "metadata": {},
   "outputs": [],
   "source": [
    "strings_i_like='66367545'\n",
    "print(numbers_i_like.isnumeric())"
   ]
  },
  {
   "cell_type": "code",
   "execution_count": null,
   "metadata": {},
   "outputs": [],
   "source": [
    "str = \"this2009\";  \n",
    "print (str.isnumeric())\n",
    "\n",
    "str = \"23443434\";\n",
    "print (str.isnumeric())"
   ]
  },
  {
   "cell_type": "markdown",
   "metadata": {},
   "source": [
    "**INT**   \n",
    "If a string returns true for `isnumeric`, we can use the `int` function to convert it into an integer."
   ]
  },
  {
   "cell_type": "code",
   "execution_count": null,
   "metadata": {},
   "outputs": [],
   "source": [
    "if strings_i_like.isnumeric():\n",
    "    ints_i_like=int(strings_i_like)\n",
    "print(type(ints_i_like),ints_i_like)\n",
    "print(type(strings_i_like),strings_i_like)"
   ]
  },
  {
   "cell_type": "markdown",
   "metadata": {},
   "source": [
    "\n",
    "##### Old Format Method using %\n",
    "We will often need to print a message which is not a fixed string – perhaps we want to include some numbers or other values which are stored in variables. The recommended way to include these variables in our message is to use string formatting syntax:\n",
    "\n",
    "The symbols in the string which start with percent signs (%) are placeholders, and the variables which are to be inserted into those positions are given after the string formatting operator, %, in the same order in which they appear in the string. If there is only one variable, it doesn’t require any kind of wrapper, but if we have more than one we need to put them in a tuple (between round brackets). The placeholder symbols have different letters depending on the type of the variable – name is a string, but age is an integer. All the variables will be converted to strings before being combined with the rest of the message."
   ]
  },
  {
   "cell_type": "code",
   "execution_count": null,
   "metadata": {},
   "outputs": [],
   "source": [
    "name = \"Jane\"\n",
    "age = 23\n",
    "print(\"Hello! My name is %s.\" % name)\n",
    "print(\"Hello! My name is %s and I am %d years old.\" % (name, age))\n",
    "\n",
    "\n",
    "\n",
    "x = 12.3456789\n",
    "print('The value of x is %3.2f' %x)\n",
    "print('The value of x is %3.4f' %x)"
   ]
  },
  {
   "cell_type": "markdown",
   "metadata": {},
   "source": [
    "source:  \n",
    "* Python/PythonBeginners-Notebooks/3.Strings, Lists, and Dictionaries.ipynb http://localhost:8890/lab/tree/Python/PythonBeginners-Notebooks/3.Strings,%20Lists,%20and%20Dictionaries.ipynb    \n",
    "* https://python-textbok.readthedocs.io/en/1.0/Python_Basics.html#strings   \n",
    "* https://www.w3schools.com/python/python_strings.asp   \n",
    "* https://www.programiz.com/python-programming/string\n",
    "* https://snakify.org/en/lessons/strings_str/\n",
    "* https://docs.python.org/3/tutorial/introduction.html#strings"
   ]
  },
  {
   "cell_type": "code",
   "execution_count": null,
   "metadata": {},
   "outputs": [],
   "source": []
  }
 ],
 "metadata": {
  "kernelspec": {
   "display_name": "Python 3",
   "language": "python",
   "name": "python3"
  },
  "language_info": {
   "codemirror_mode": {
    "name": "ipython",
    "version": 3
   },
   "file_extension": ".py",
   "mimetype": "text/x-python",
   "name": "python",
   "nbconvert_exporter": "python",
   "pygments_lexer": "ipython3",
   "version": "3.7.4"
  }
 },
 "nbformat": 4,
 "nbformat_minor": 4
}
